{
  "nbformat": 4,
  "nbformat_minor": 0,
  "metadata": {
    "colab": {
      "provenance": [],
      "authorship_tag": "ABX9TyOUfdBs5lZgzsS5ZOLBrbRP",
      "include_colab_link": true
    },
    "kernelspec": {
      "name": "python3",
      "display_name": "Python 3"
    },
    "language_info": {
      "name": "python"
    }
  },
  "cells": [
    {
      "cell_type": "markdown",
      "metadata": {
        "id": "view-in-github",
        "colab_type": "text"
      },
      "source": [
        "<a href=\"https://colab.research.google.com/github/SergioMorenoVargas/PythonCourse/blob/main/Practica5.ipynb\" target=\"_parent\"><img src=\"https://colab.research.google.com/assets/colab-badge.svg\" alt=\"Open In Colab\"/></a>"
      ]
    },
    {
      "cell_type": "markdown",
      "source": [
        "PRACTICA 5\n",
        "\n",
        "EJERCICIO 1:\n",
        "\n",
        "Cree un programa que gestione operaciones matemáticas utilizando decoradores,\n",
        "funciones lambda y *args/**kwargs. Considere las siguientes tareas:\n",
        "\n",
        "• Cree un decorador llamado operation_logger que registre el nombre de la operación, las entradas y el resultado.\n",
        "\n",
        "• Cree funciones lambda para operaciones matemáticas básicas (suma, resta, multiplicación, división).\n",
        "\n",
        "• Cree una función llamada math_operation que tome una operación (función lambda) y cualquier número de argumentos, y devuelva el resultado.\n",
        "\n",
        "• Use el decorador en la función math_operation.\n",
        "\n",
        "• Implemente manejo de errores para la división por cero.\n",
        "\n",
        "• Pruebe el sistema con al menos las siguientes operaciones y entradas:\n",
        "\n",
        "  math_operation(add, 5, 3)\n",
        "  \n",
        "  math_operation(subtract, 10, 4)\n",
        "  \n",
        "  math_operation(multiply, 2, 6)\n",
        "  \n",
        "  math_operation(divide, 15, 3)\n",
        "  \n",
        "  math_operation(divide, 10, 0) # Debe manejar la división por 0\n",
        "\n",
        "  math_operation(add, 1, 2, 3, 4, 5) # Debe manejar múltiples argumentos\n",
        "\n",
        "EJERCICIO 2:\n",
        "\n",
        "Cree un sistema de gestión de bibliotecas que conste de los siguientes módulos.\n",
        "\n",
        "• Un módulo book.py que defina una clase Book con atributos privados: título, autor, ISBN y estado (prestado o no). Utilice el decorador @property en todos los atributos. Deberá además implementar __str__ para visualizar en forma de cadena todos los datos del libro.\n",
        "\n",
        "• Un módulo library.py que defina una clase Library para gestionar una\n",
        "colección de libros. Debe incluir métodos para agregar libros, eliminar libros, prestar libros, devolver libros y buscar libros por título o autor.\n",
        "\n",
        "• Un módulo user.py que defina una clase User con atributos privados: nombre, ID y libros prestados. Utilice el decorador @property en todos los atributos. Deberá además implementar __str__ para visualizar en forma de cadena todos los datos del usuario.\n",
        "\n",
        "• Extienda las funciones leer_int, leer_float y crear_menu de la práctica anterior para que permitan anotaciones y genere errores en el caso que los tipos no sean los esperados. Impleméntelas en un fichero denominado utils.py. Para crear anotaciones de tipo lista o diccionario debe utilizar el módulo typing. Implemente en este fichero una nueva función que genere IDs únicos para usuarios y libros. Utilice el módulo uuid y la función uuid4() para crear un ID de versión 4 aleatorio. Devuelva el ID convertido en una cadena de texto con los 8 primeros caracteres.\n",
        "\n",
        "• Un script principal main.py que utilice todos estos módulos para crear una biblioteca con al menos las siguientes opciones de menú: añadir libro, eliminar libro, registrar usuario, realizar préstamo, realizar devolución, y mostrar todos los libros."
      ],
      "metadata": {
        "id": "JBvEyzYg_c-p"
      }
    },
    {
      "cell_type": "code",
      "source": [
        "#PRACTICA 5\n",
        "#EJERCICIO 1\n",
        "# Decorador para registrar operaciones\n",
        "def operation_logger(func):\n",
        "    def wrapper(operation, *args, **kwargs):\n",
        "        try:\n",
        "            resultado = func(operation, *args, **kwargs)\n",
        "            # Registra el nombre de la operación y los argumentos\n",
        "            print(f\"Operación: {operation['name']}\")\n",
        "            print(f\"Entradas: {args}\")\n",
        "            print(f\"Resultado: {resultado}\")\n",
        "            return resultado\n",
        "        except Exception as e:\n",
        "            print(f\"Error: {e}\")\n",
        "            return None\n",
        "    return wrapper\n",
        "\n",
        "# Operaciones\n",
        "suma = lambda a, b: a + b\n",
        "resta = lambda a, b: a - b\n",
        "multiplicacion = lambda a, b: a * b\n",
        "division = lambda a, b: a / b if b != 0 else 'Error: No se puede dividir por 0'  # El if maneja la división por 0\n",
        "\n",
        "# Función math_operation\n",
        "@operation_logger\n",
        "def math_operation(operation, *args):\n",
        "    return operation['func'](*args)\n",
        "\n",
        "# Ejemplos de uso:\n",
        "\n",
        "# Mapeo de operaciones con nombre y función\n",
        "operaciones = {\n",
        "    \"suma\": {'name': 'Suma', 'func': suma},\n",
        "    \"resta\": {'name': 'Resta', 'func': resta},\n",
        "    \"multiplicacion\": {'name': 'Multiplicación', 'func': multiplicacion},\n",
        "    \"division\": {'name': 'División', 'func': division}\n",
        "}\n",
        "\n",
        "# Suma\n",
        "print(\"Suma:\")\n",
        "math_operation(operaciones[\"suma\"], 5, 3)\n",
        "\n",
        "# Resta\n",
        "print(\"\\nResta:\")\n",
        "math_operation(operaciones[\"resta\"], 10, 4)\n",
        "\n",
        "# Multiplicación\n",
        "print(\"\\nMultiplicación:\")\n",
        "math_operation(operaciones[\"multiplicacion\"], 7, 2)\n",
        "\n",
        "# División\n",
        "print(\"\\nDivisión:\")\n",
        "math_operation(operaciones[\"division\"], 15, 3)\n",
        "\n",
        "# División por cero\n",
        "print(\"\\nDivisión por cero:\")\n",
        "math_operation(operaciones[\"division\"], 15, 0)\n",
        "\n",
        "# Manejo de varios argumentos\n",
        "print(\"\\nSuma de varios argumentos:\")\n",
        "math_operation(operaciones[\"suma\"], 1, 2, 3, 4, 5)\n",
        "\n"
      ],
      "metadata": {
        "colab": {
          "base_uri": "https://localhost:8080/"
        },
        "collapsed": true,
        "id": "f9sEGLId_eU-",
        "outputId": "649dbd07-e31c-4267-8ead-db0ce2bcd6e5"
      },
      "execution_count": null,
      "outputs": [
        {
          "output_type": "stream",
          "name": "stdout",
          "text": [
            "Suma:\n",
            "Operación: Suma\n",
            "Entradas: (5, 3)\n",
            "Resultado: 8\n",
            "\n",
            "Resta:\n",
            "Operación: Resta\n",
            "Entradas: (10, 4)\n",
            "Resultado: 6\n",
            "\n",
            "Multiplicación:\n",
            "Operación: Multiplicación\n",
            "Entradas: (7, 2)\n",
            "Resultado: 14\n",
            "\n",
            "División:\n",
            "Operación: División\n",
            "Entradas: (15, 3)\n",
            "Resultado: 5.0\n",
            "\n",
            "División por cero:\n",
            "Operación: División\n",
            "Entradas: (15, 0)\n",
            "Resultado: Error: No se puede dividir por 0\n",
            "\n",
            "Suma de varios argumentos:\n",
            "Error: <lambda>() takes 2 positional arguments but 5 were given\n"
          ]
        }
      ]
    },
    {
      "cell_type": "markdown",
      "source": [
        "EJERCICIO 2:\n",
        "\n",
        "ESTRUCTURA DEL PROYECTO:"
      ],
      "metadata": {
        "id": "LUsvIAaKKeij"
      }
    },
    {
      "cell_type": "code",
      "source": [
        "#PRACTICA 5\n",
        "#EJERCICIO 2\n",
        "biblioteca/\n",
        "├── book.py\n",
        "├── library.py\n",
        "├── user.py\n",
        "├── utils.py\n",
        "└── main.py\n"
      ],
      "metadata": {
        "id": "J-RcJK51CDzQ"
      },
      "execution_count": null,
      "outputs": []
    },
    {
      "cell_type": "markdown",
      "source": [
        "Módulo book.py: Define la clase Book"
      ],
      "metadata": {
        "id": "gpYKaCByKnbB"
      }
    },
    {
      "cell_type": "code",
      "source": [
        "# book.py\n",
        "\n",
        "class Book:\n",
        "    def __init__(self, titulo, autor, ISBN):\n",
        "        self._titulo = titulo\n",
        "        self._autor = autor\n",
        "        self._ISBN = ISBN\n",
        "        self._estado = False  # Disponible\n",
        "                              # True = prestado\n",
        "\n",
        "    @property\n",
        "    def titulo(self):\n",
        "        return self._titulo\n",
        "\n",
        "    @property\n",
        "    def autor(self):\n",
        "        return self._autor\n",
        "\n",
        "    @property\n",
        "    def isbn(self):\n",
        "        return self._ISBN\n",
        "\n",
        "    @property\n",
        "    def estado(self):\n",
        "        return \"Prestado\" if self._estado else \"Disponible\"\n",
        "\n",
        "    @estado.setter      # el setter se utiliza para poder modificar el estado desde fuerade la clase\n",
        "    def estado(self, value):\n",
        "        if isinstance(value, bool):\n",
        "            self._estado = value\n",
        "        else:\n",
        "            raise ValueError(\"El estado debe ser un valor booleano.\")\n",
        "\n",
        "    def __str__(self):\n",
        "        return f\"Libro: {self._titulo} / Autor: {self._autor} / ISBN: {self._isbn} :\\n Estado: {self.estado}\"\n"
      ],
      "metadata": {
        "id": "PbiwzeHSKbjb"
      },
      "execution_count": null,
      "outputs": []
    },
    {
      "cell_type": "markdown",
      "source": [
        "Módulo library.py: Define la clase Library"
      ],
      "metadata": {
        "id": "w_6uDUSMKs8A"
      }
    },
    {
      "cell_type": "code",
      "source": [
        "# library.py\n",
        "from book import Book\n",
        "\n",
        "class Library:\n",
        "    def __init__(self):\n",
        "        self.libros = []\n",
        "\n",
        "    def agregar_libro(self, libro: Book):\n",
        "        self.libros.append(libro)\n",
        "\n",
        "    def eliminar_libro(self, isbn: str):\n",
        "        for libro in self.libros:\n",
        "            if libro.isbn == isbn:\n",
        "                self.libros.remove(libro)\n",
        "                print(f\"Libro con ISBN {isbn} eliminado.\")\n",
        "                return\n",
        "        print(f\"No se encontró el libro con ISBN {isbn}.\")\n",
        "\n",
        "    def prestar_libro(self, isbn: str):\n",
        "        for libro in self.libros:\n",
        "            if libro.isbn == isbn:\n",
        "                if libro.estado == \"Disponible\":\n",
        "                    libro.estado = True  # Cambiar el estado a prestado\n",
        "                    print(f\"Libro {libro.titulo} prestado exitosamente.\")\n",
        "                    return\n",
        "                else:\n",
        "                    print(f\"El libro {libro.titulo} ya está prestado.\")\n",
        "                    return\n",
        "        print(f\"No se encontró el libro con ISBN {isbn}.\")\n",
        "\n",
        "    def devolver_libro(self, isbn: str):\n",
        "        for libro in self.libros:\n",
        "            if libro.isbn == isbn:\n",
        "                if libro.estado == \"Prestado\":\n",
        "                    libro.estado = False  # Cambiar el estado a disponible\n",
        "                    print(f\"Libro {libro.titulo} devuelto exitosamente.\")\n",
        "                    return\n",
        "                else:\n",
        "                    print(f\"El libro {libro.titulo} no está prestado.\")\n",
        "                    return\n",
        "        print(f\"No se encontró el libro con ISBN {isbn}.\")\n",
        "\n",
        "    def buscar_libro(self, busqueda: str):\n",
        "        encontrados = [libro for libro in self.libros if busqueda.lower() in libro.titulo.lower() or busqueda.lower() in libro.autor.lower()]\n",
        "        if encontrados:\n",
        "            for libro in encontrados:\n",
        "                print(libro)\n",
        "        else:\n",
        "            print(f\"No se encontraron libros que coincidan con '{busqueda}'.\")\n",
        "\n",
        "    def mostrar_libros(self):\n",
        "        if not self.libros:\n",
        "            print(\"No hay libros en la biblioteca.\")\n",
        "        else:\n",
        "            for libro in self.libros:\n",
        "                print(libro)\n"
      ],
      "metadata": {
        "id": "zL15GSLGKcOr",
        "colab": {
          "base_uri": "https://localhost:8080/",
          "height": 383
        },
        "outputId": "091b3d78-9662-4ecc-a67a-57578ab0f085"
      },
      "execution_count": 1,
      "outputs": [
        {
          "output_type": "error",
          "ename": "ModuleNotFoundError",
          "evalue": "No module named 'book'",
          "traceback": [
            "\u001b[0;31m---------------------------------------------------------------------------\u001b[0m",
            "\u001b[0;31mModuleNotFoundError\u001b[0m                       Traceback (most recent call last)",
            "\u001b[0;32m<ipython-input-1-5314608eedcf>\u001b[0m in \u001b[0;36m<cell line: 2>\u001b[0;34m()\u001b[0m\n\u001b[1;32m      1\u001b[0m \u001b[0;31m# library.py\u001b[0m\u001b[0;34m\u001b[0m\u001b[0;34m\u001b[0m\u001b[0m\n\u001b[0;32m----> 2\u001b[0;31m \u001b[0;32mfrom\u001b[0m \u001b[0mbook\u001b[0m \u001b[0;32mimport\u001b[0m \u001b[0mBook\u001b[0m\u001b[0;34m\u001b[0m\u001b[0;34m\u001b[0m\u001b[0m\n\u001b[0m\u001b[1;32m      3\u001b[0m \u001b[0;34m\u001b[0m\u001b[0m\n\u001b[1;32m      4\u001b[0m \u001b[0;32mclass\u001b[0m \u001b[0mLibrary\u001b[0m\u001b[0;34m:\u001b[0m\u001b[0;34m\u001b[0m\u001b[0;34m\u001b[0m\u001b[0m\n\u001b[1;32m      5\u001b[0m     \u001b[0;32mdef\u001b[0m \u001b[0m__init__\u001b[0m\u001b[0;34m(\u001b[0m\u001b[0mself\u001b[0m\u001b[0;34m)\u001b[0m\u001b[0;34m:\u001b[0m\u001b[0;34m\u001b[0m\u001b[0;34m\u001b[0m\u001b[0m\n",
            "\u001b[0;31mModuleNotFoundError\u001b[0m: No module named 'book'",
            "",
            "\u001b[0;31m---------------------------------------------------------------------------\u001b[0;32m\nNOTE: If your import is failing due to a missing package, you can\nmanually install dependencies using either !pip or !apt.\n\nTo view examples of installing some common dependencies, click the\n\"Open Examples\" button below.\n\u001b[0;31m---------------------------------------------------------------------------\u001b[0m\n"
          ],
          "errorDetails": {
            "actions": [
              {
                "action": "open_url",
                "actionText": "Open Examples",
                "url": "/notebooks/snippets/importing_libraries.ipynb"
              }
            ]
          }
        }
      ]
    },
    {
      "cell_type": "markdown",
      "source": [
        "Módulo user.py: Define la clase User"
      ],
      "metadata": {
        "id": "SjeUb3SmKxoP"
      }
    },
    {
      "cell_type": "code",
      "source": [
        "# user.py\n",
        "import uuid\n",
        "\n",
        "class User:\n",
        "    def __init__(self, nombre):\n",
        "        self._nombre = nombre\n",
        "        self._id = self.generar_id()\n",
        "        self._libros_prestados = []\n",
        "\n",
        "    @property\n",
        "    def nombre(self):\n",
        "        return self._nombre\n",
        "\n",
        "    @property\n",
        "    def id(self):\n",
        "        return self._id\n",
        "\n",
        "    @property\n",
        "    def libros_prestados(self):\n",
        "        return self._libros_prestados\n",
        "\n",
        "    def generar_id(self):\n",
        "        return str(uuid.uuid4())[:8]\n",
        "\n",
        "    def prestar_libro(self, libro):\n",
        "        if libro not in self._libros_prestados:\n",
        "            self._libros_prestados.append(libro)\n",
        "            print(f\"Libro '{libro.titulo}' prestado a {self.nombre}.\")\n",
        "        else:\n",
        "            print(f\"{self.nombre} ya tiene el libro '{libro.titulo}'.\")\n",
        "\n",
        "    def devolver_libro(self, libro):\n",
        "        if libro in self._libros_prestados:\n",
        "            self._libros_prestados.remove(libro)\n",
        "            print(f\"Libro '{libro.titulo}' devuelto por {self.nombre}.\")\n",
        "        else:\n",
        "            print(f\"{self.nombre} no tiene el libro '{libro.titulo}'.\")\n",
        "\n",
        "    def __str__(self):\n",
        "        return f\"Usuario: {self._nombre} - ID: {self._id} - Libros prestados: {[libro.titulo for libro in self._libros_prestados]}\"\n"
      ],
      "metadata": {
        "id": "zTGPDmydKdF0"
      },
      "execution_count": null,
      "outputs": []
    },
    {
      "cell_type": "markdown",
      "source": [
        "Módulo utils.py: Funciones auxiliares"
      ],
      "metadata": {
        "id": "abClcaDxK4Bn"
      }
    },
    {
      "cell_type": "code",
      "source": [
        "# utils.py\n",
        "import uuid\n",
        "from typing import List, Dict\n",
        "\n",
        "def leer_int(prompt: str) -> int:\n",
        "    while True:\n",
        "        try:\n",
        "            return int(input(prompt))\n",
        "        except ValueError:\n",
        "            print(\"Por favor, ingrese un número entero válido.\")\n",
        "\n",
        "def leer_float(prompt: str) -> float:\n",
        "    while True:\n",
        "        try:\n",
        "            return float(input(prompt))\n",
        "        except ValueError:\n",
        "            print(\"Por favor, ingrese un número decimal válido.\")\n",
        "\n",
        "def crear_menu(opciones: List[str]) -> int:\n",
        "    for i, opcion in enumerate(opciones, 1):\n",
        "        print(f\"{i}. {opcion}\")\n",
        "    while True:\n",
        "        try:\n",
        "            seleccion = int(input(\"Seleccione una opción: \"))\n",
        "            if 1 <= seleccion <= len(opciones):\n",
        "                return seleccion\n",
        "            else:\n",
        "                print(\"Opción fuera de rango.\")\n",
        "        except ValueError:\n",
        "            print(\"Por favor, ingrese un número válido.\")\n",
        "\n",
        "def generar_id_unico() -> str:\n",
        "    return str(uuid.uuid4())[:8]\n"
      ],
      "metadata": {
        "id": "2JB4jW8WK8xv"
      },
      "execution_count": null,
      "outputs": []
    },
    {
      "cell_type": "markdown",
      "source": [
        "Módulo main.py: Script principal"
      ],
      "metadata": {
        "id": "bnsbvmWFLEDN"
      }
    },
    {
      "cell_type": "code",
      "source": [
        "# main.py\n",
        "\n",
        "from library import Library\n",
        "from book import Book\n",
        "from user import User\n",
        "from utils import leer_int, leer_float, crear_menu, generar_id_unico\n",
        "\n",
        "def main():\n",
        "    biblioteca = Library()\n",
        "    usuarios = {}\n",
        "\n",
        "    while True:\n",
        "        print(\"\\nBienvenido a la Biblioteca\")\n",
        "        opciones_menu = [\n",
        "            \"Añadir libro\",\n",
        "            \"Eliminar libro\",\n",
        "            \"Registrar usuario\",\n",
        "            \"Realizar préstamo\",\n",
        "            \"Realizar devolución\",\n",
        "            \"Mostrar todos los libros\",\n",
        "            \"Salir\"\n",
        "        ]\n",
        "        opcion = crear_menu(opciones_menu)\n",
        "\n",
        "        if opcion == 1:  # Añadir libro\n",
        "            titulo = input(\"Ingrese el título del libro: \")\n",
        "            autor = input(\"Ingrese el autor del libro: \")\n",
        "            isbn = input(\"Ingrese el ISBN del libro: \")\n",
        "            libro = Book(titulo, autor, isbn)\n",
        "            biblioteca.agregar_libro(libro)\n",
        "\n",
        "        elif opcion == 2:  # Eliminar libro\n",
        "            isbn = input(\"Ingrese el ISBN del libro a eliminar: \")\n",
        "            biblioteca.eliminar_libro(isbn)\n",
        "\n",
        "        elif opcion == 3:  # Registrar usuario\n",
        "            nombre = input(\"Ingrese el nombre del usuario: \")\n",
        "            usuario = User(nombre)\n",
        "            usuarios[usuario.id] = usuario\n",
        "            print(f\"Usuario registrado con ID: {usuario.id}\")\n",
        "\n",
        "        elif opcion == 4:  # Realizar préstamo\n",
        "            id_usuario = input(\"Ingrese el ID del usuario: \")\n",
        "            isbn_libro = input(\"Ingrese el ISBN del libro a prestar: \")\n",
        "\n",
        "            if id_usuario in usuarios:\n",
        "                usuario = usuarios[id_usuario]\n",
        "                for libro in biblioteca.libros:\n",
        "                    if libro.isbn == isbn_libro:\n",
        "                        usuario.prestar_libro(libro)\n",
        "                        biblioteca.prestar_libro(isbn_libro)\n",
        "                        break\n",
        "                else:\n",
        "                    print(\"Libro no encontrado en la biblioteca.\")\n",
        "            else:\n",
        "                print(\"Usuario no encontrado.\")\n",
        "\n",
        "        elif opcion == 5:  # Realizar devolución\n",
        "            id_usuario = input(\"Ingrese el ID del usuario: \")\n",
        "            isbn_libro = input(\"Ingrese el ISBN del libro a devolver: \")\n",
        "\n",
        "            if id_usuario in usuarios:\n",
        "                usuario = usuarios[id_usuario]\n",
        "                for libro in biblioteca.libros:\n",
        "                    if libro.isbn == isbn_libro:\n",
        "                        usuario.devolver_libro(libro)\n",
        "                        biblioteca.devolver_libro(isbn_libro)\n",
        "                        break\n",
        "                else:\n",
        "                    print(\"Libro no encontrado en la biblioteca.\")\n",
        "            else:\n",
        "                print(\"Usuario no encontrado.\")\n",
        "\n",
        "        elif opcion == 6:  # Mostrar todos los libros\n",
        "            biblioteca.mostrar_libros()\n",
        "\n",
        "        elif opcion == 7:  # Salir\n",
        "            print(\"Gracias por usar el sistema de gestión de la biblioteca.\")\n",
        "            break\n",
        "\n",
        "if __name__ == \"__main__\":\n",
        "    main()\n"
      ],
      "metadata": {
        "id": "A1ZA1dSAK_AP",
        "colab": {
          "base_uri": "https://localhost:8080/",
          "height": 297
        },
        "outputId": "93ca67e0-cbb3-4efc-cc89-9d57c561e778"
      },
      "execution_count": null,
      "outputs": [
        {
          "output_type": "error",
          "ename": "NameError",
          "evalue": "name 'Library' is not defined",
          "traceback": [
            "\u001b[0;31m---------------------------------------------------------------------------\u001b[0m",
            "\u001b[0;31mNameError\u001b[0m                                 Traceback (most recent call last)",
            "\u001b[0;32m<ipython-input-8-88acbf368b84>\u001b[0m in \u001b[0;36m<cell line: 81>\u001b[0;34m()\u001b[0m\n\u001b[1;32m     80\u001b[0m \u001b[0;34m\u001b[0m\u001b[0m\n\u001b[1;32m     81\u001b[0m \u001b[0;32mif\u001b[0m \u001b[0m__name__\u001b[0m \u001b[0;34m==\u001b[0m \u001b[0;34m\"__main__\"\u001b[0m\u001b[0;34m:\u001b[0m\u001b[0;34m\u001b[0m\u001b[0;34m\u001b[0m\u001b[0m\n\u001b[0;32m---> 82\u001b[0;31m     \u001b[0mmain\u001b[0m\u001b[0;34m(\u001b[0m\u001b[0;34m)\u001b[0m\u001b[0;34m\u001b[0m\u001b[0;34m\u001b[0m\u001b[0m\n\u001b[0m",
            "\u001b[0;32m<ipython-input-8-88acbf368b84>\u001b[0m in \u001b[0;36mmain\u001b[0;34m()\u001b[0m\n\u001b[1;32m      7\u001b[0m \"\"\"\n\u001b[1;32m      8\u001b[0m \u001b[0;32mdef\u001b[0m \u001b[0mmain\u001b[0m\u001b[0;34m(\u001b[0m\u001b[0;34m)\u001b[0m\u001b[0;34m:\u001b[0m\u001b[0;34m\u001b[0m\u001b[0;34m\u001b[0m\u001b[0m\n\u001b[0;32m----> 9\u001b[0;31m     \u001b[0mbiblioteca\u001b[0m \u001b[0;34m=\u001b[0m \u001b[0mLibrary\u001b[0m\u001b[0;34m(\u001b[0m\u001b[0;34m)\u001b[0m\u001b[0;34m\u001b[0m\u001b[0;34m\u001b[0m\u001b[0m\n\u001b[0m\u001b[1;32m     10\u001b[0m     \u001b[0musuarios\u001b[0m \u001b[0;34m=\u001b[0m \u001b[0;34m{\u001b[0m\u001b[0;34m}\u001b[0m\u001b[0;34m\u001b[0m\u001b[0;34m\u001b[0m\u001b[0m\n\u001b[1;32m     11\u001b[0m \u001b[0;34m\u001b[0m\u001b[0m\n",
            "\u001b[0;31mNameError\u001b[0m: name 'Library' is not defined"
          ]
        }
      ]
    },
    {
      "cell_type": "markdown",
      "source": [
        "PRECUNTAS:\n",
        "1. ¿qué es una función lambda?: son unas funciones las cuales no se necesita definir su nombre. Estas son utilizadas para funciones q realicen operaciones simples.\n",
        "2. ¿Cómo se definen las funciones lambda?: se definen usando la palabra clave lambda. De la siguiente manera: variable(nombre de la operación que realiza)= lambda valores: operación.\n",
        "3. ¿Qué significa *args y **kwargs?: son variables que se utilizan para pasar un número variable de argumentos a una función, para que acepte un número indeterminado de argumento\n",
        "4. Al imprimir el código devolvía \"lambda\" en lugar de un nombre de la operación, por tanto pregunté: ¿Cómo hacer que se quede registrtado el nombre de la operaión?: Las funciones lambda como suma no tienen un nombre explícito que puedas obtener directamente desde operation.__name__. Las funciones lambda son anónimas, por eso devolvía \"lambda\".La solución que me ofreció fue pasar el nombre de la operación como un argumento adicional\n",
        "\n",
        "\n",
        "---\n",
        "\n",
        "5. ¿Cómo guardar en estado al mismo tiempo presentado y no presentado?: para hacer esto utilizar losd bool \"TRUE\" y \"FALSE\"\n",
        "6. Para hacer lo anterior se necesitaria entonces, que pudiese cambiar el valor. Por ello pregunté, ¿cómo hacerlo?. La solcion que me ofreció fue hacer que el decorador del estado con @estado.setter implementando el setter para que sea variable\n",
        "7."
      ],
      "metadata": {
        "id": "P3_nqEhgCLo2"
      }
    }
  ]
}